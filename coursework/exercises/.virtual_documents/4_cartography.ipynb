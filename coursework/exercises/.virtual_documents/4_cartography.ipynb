





# PROMPT: import geojson, pandas (to use later), and altair


# PROMPT: load geojson data from https://data.cityofchicago.org/Facilities-Geographic-Boundaries/Boundaries-Wards-2015-2023-/sp34-6z76
# HINT: go to provided URL > click Export > geoJSON


# PROMPT: use altair to render a map of Chicago wards








# PROMPT: load the data about home sales per Chicago ward
# HINT:  go to provided URL > Download Data > Data > Show Fields to filter > Download
# HINT: read the data using the argument `encoding="UTF-16"` to avoid an error


# PROMPT: use altair to make a choropleth map of which type of home has the highest count of sales per ward
# HINT: this stackoverflow page might help you with a required data transformation https://stackoverflow.com/questions/15705630/get-the-rows-which-have-the-max-value-in-groups-using-groupby








# PROMPT: use altair to make a choropleth map of median home price per ward, for each home type
# HINT: the median home sales values need to be converted to a numeric data type
# HINT: you might want to separate the home sales data into different dataframes for each map









# PROMPT: use altair to make a choropleth map of the ratio of single family/condo sales counts
# HINT: you may need to reshape the data on home sales using the pandas pivot method











# PROMPT: load your data and create a map of your data source(s) showing an interesting pattern



