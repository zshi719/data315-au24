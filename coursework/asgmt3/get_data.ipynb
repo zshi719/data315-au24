{
 "cells": [
  {
   "cell_type": "code",
   "id": "initial_id",
   "metadata": {
    "collapsed": true,
    "ExecuteTime": {
     "end_time": "2024-11-02T08:32:34.822078Z",
     "start_time": "2024-11-02T08:32:33.050130Z"
    }
   },
   "source": [
    "import json\n",
    "import yfinance as yf\n",
    "import numpy as np\n",
    "from scipy.stats import gaussian_kde\n",
    "\n",
    "# Step 1: Retrieve data for both stocks\n",
    "ticker1 = 'AAPL'\n",
    "ticker2 = 'MSFT'\n",
    "start_date = '2000-01-01'\n",
    "end_date = '2024-01-01'\n",
    "\n",
    "# Download data for each ticker\n",
    "data1 = yf.download(ticker1, start=start_date, end=end_date, interval='1wk')\n",
    "data1['Return'] = data1['Adj Close'].pct_change().dropna()\n",
    "\n",
    "data2 = yf.download(ticker2, start=start_date, end=end_date, interval='1wk')\n",
    "data2['Return'] = data2['Adj Close'].pct_change().dropna()\n",
    "\n",
    "# Extract returns\n",
    "returns_stock1 = data1['Return'].dropna()\n",
    "returns_stock2 = data2['Return'].dropna()\n",
    "\n",
    "# Step 2: KDE for each stock's returns\n",
    "kde1 = gaussian_kde(returns_stock1)\n",
    "kde2 = gaussian_kde(returns_stock2)\n",
    "\n",
    "# Create x-axis range for KDE\n",
    "x_grid = np.linspace(min(returns_stock1.min(), returns_stock2.min()),\n",
    "                     max(returns_stock1.max(), returns_stock2.max()), 1000)\n",
    "\n",
    "pdf_stock1 = kde1(x_grid)\n",
    "pdf_stock2 = kde2(x_grid)\n",
    "\n",
    "# Step 3: CDF Calculation\n",
    "cdf_stock1 = np.cumsum(pdf_stock1) * (x_grid[1] - x_grid[0])\n",
    "cdf_stock2 = np.cumsum(pdf_stock2) * (x_grid[1] - x_grid[0])\n",
    "\n",
    "# Step 4: ICDF Calculation (integrated CDF)\n",
    "icdf_stock1 = np.cumsum(cdf_stock1) * (x_grid[1] - x_grid[0])\n",
    "icdf_stock2 = np.cumsum(cdf_stock2) * (x_grid[1] - x_grid[0])\n",
    "\n",
    "# Step 5: Save data as JSON for use in Svelte\n",
    "output_data = {\n",
    "    \"x_grid\": x_grid.tolist(),\n",
    "    \"pdf_stock1\": pdf_stock1.tolist(),\n",
    "    \"pdf_stock2\": pdf_stock2.tolist(),\n",
    "    \"cdf_stock1\": cdf_stock1.tolist(),\n",
    "    \"cdf_stock2\": cdf_stock2.tolist(),\n",
    "    \"icdf_stock1\": icdf_stock1.tolist(),\n",
    "    \"icdf_stock2\": icdf_stock2.tolist(),\n",
    "}\n",
    "\n",
    "# Write to JSON file\n",
    "with open('stock_analysis_data.json', 'w') as f:\n",
    "    json.dump(output_data, f)\n"
   ],
   "outputs": [
    {
     "name": "stderr",
     "output_type": "stream",
     "text": [
      "[*********************100%***********************]  1 of 1 completed\n",
      "[*********************100%***********************]  1 of 1 completed\n"
     ]
    }
   ],
   "execution_count": 1
  }
 ],
 "metadata": {
  "kernelspec": {
   "display_name": "Python 3",
   "language": "python",
   "name": "python3"
  },
  "language_info": {
   "codemirror_mode": {
    "name": "ipython",
    "version": 2
   },
   "file_extension": ".py",
   "mimetype": "text/x-python",
   "name": "python",
   "nbconvert_exporter": "python",
   "pygments_lexer": "ipython2",
   "version": "2.7.6"
  }
 },
 "nbformat": 4,
 "nbformat_minor": 5
}
