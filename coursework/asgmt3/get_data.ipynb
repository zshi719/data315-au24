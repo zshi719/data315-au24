{
 "cells": [
  {
   "cell_type": "code",
   "id": "3ee7ae7708fab8d",
   "metadata": {
    "ExecuteTime": {
     "end_time": "2024-11-10T23:04:23.892587Z",
     "start_time": "2024-11-10T23:04:23.890025Z"
    }
   },
   "source": [
    "import json\n",
    "import pandas as pd\n",
    "import yfinance as yf\n",
    "import numpy as np\n",
    "from scipy.stats import gaussian_kde"
   ],
   "outputs": [],
   "execution_count": 34
  },
  {
   "metadata": {
    "ExecuteTime": {
     "end_time": "2024-11-10T23:04:23.898888Z",
     "start_time": "2024-11-10T23:04:23.896944Z"
    }
   },
   "cell_type": "code",
   "source": [
    "# import json\n",
    "ticker1 = 'LULU'\n",
    "ticker2 = 'FRCOY'"
   ],
   "id": "c3f9957b8f32f810",
   "outputs": [],
   "execution_count": 35
  },
  {
   "metadata": {
    "collapsed": true,
    "ExecuteTime": {
     "end_time": "2024-11-10T23:04:23.963326Z",
     "start_time": "2024-11-10T23:04:23.916223Z"
    }
   },
   "cell_type": "code",
   "source": [
    "# Step 1: Retrieve data for both stocks\n",
    "start_date = '2000-01-01'\n",
    "end_date = '2024-01-01'\n",
    "\n",
    "# Download data for each ticker\n",
    "data1 = yf.download(ticker1, start=start_date, end=end_date, interval='1wk')\n",
    "data1['Return'] = data1['Adj Close'].pct_change().dropna()\n",
    "\n",
    "data2 = yf.download(ticker2, start=start_date, end=end_date, interval='1wk')\n",
    "data2['Return'] = data2['Adj Close'].pct_change().dropna()\n",
    "\n",
    "# Extract returns\n",
    "returns_stock1 = data1['Return'].dropna()\n",
    "returns_stock2 = data2['Return'].dropna()\n",
    "\n",
    "# Step 2: KDE for each stock's returns\n",
    "kde1 = gaussian_kde(returns_stock1)\n",
    "kde2 = gaussian_kde(returns_stock2)\n",
    "\n",
    "# Create x-axis range for KDE\n",
    "x_grid = np.linspace(min(returns_stock1.min(), returns_stock2.min()),\n",
    "                     max(returns_stock1.max(), returns_stock2.max()), 1000)\n",
    "\n",
    "pdf_stock1 = kde1(x_grid)\n",
    "pdf_stock2 = kde2(x_grid)\n",
    "\n",
    "# Step 3: CDF Calculation\n",
    "cdf_stock1 = np.cumsum(pdf_stock1) * (x_grid[1] - x_grid[0])\n",
    "cdf_stock2 = np.cumsum(pdf_stock2) * (x_grid[1] - x_grid[0])\n",
    "\n",
    "# Step 4: ICDF Calculation (integrated CDF)\n",
    "icdf_stock1 = np.cumsum(cdf_stock1) * (x_grid[1] - x_grid[0])\n",
    "icdf_stock2 = np.cumsum(cdf_stock2) * (x_grid[1] - x_grid[0])\n",
    "\n",
    "# Step 5: Save data as JSON for use in Svelte\n",
    "output_data = {\n",
    "    \"x_grid\": x_grid.tolist(),\n",
    "    \"pdf_stock1\": pdf_stock1.tolist(),\n",
    "    \"pdf_stock2\": pdf_stock2.tolist(),\n",
    "    \"cdf_stock1\": cdf_stock1.tolist(),\n",
    "    \"cdf_stock2\": cdf_stock2.tolist(),\n",
    "    \"icdf_stock1\": icdf_stock1.tolist(),\n",
    "    \"icdf_stock2\": icdf_stock2.tolist(),\n",
    "}\n",
    "\n",
    "# Write to JSON file\n",
    "with open('distribution_data.json', 'w') as f:\n",
    "    json.dump(output_data, f)\n"
   ],
   "id": "initial_id",
   "outputs": [
    {
     "name": "stderr",
     "output_type": "stream",
     "text": [
      "[*********************100%***********************]  1 of 1 completed\n",
      "[*********************100%***********************]  1 of 1 completed\n"
     ]
    }
   ],
   "execution_count": 36
  },
  {
   "metadata": {
    "ExecuteTime": {
     "end_time": "2024-11-10T23:04:23.981319Z",
     "start_time": "2024-11-10T23:04:23.974838Z"
    }
   },
   "cell_type": "code",
   "source": [
    "# import json\n",
    "\n",
    "# use ticker 1 versus ticker 2 as file name\n",
    "data_name = f'{ticker1}_vs_{ticker2}.json' \n",
    "file_path = f'/Users/victoriashi/GithubProject/info_viz/src/data/{data_name}'\n",
    "# save data to file\n",
    "with open(file_path, 'w') as f:\n",
    "    json.dump(output_data, f)"
   ],
   "id": "6ff4f75098f8a859",
   "outputs": [],
   "execution_count": 37
  },
  {
   "metadata": {},
   "cell_type": "code",
   "outputs": [],
   "execution_count": null,
   "source": "",
   "id": "439dcd57b748c094"
  },
  {
   "metadata": {},
   "cell_type": "markdown",
   "source": "## Get data for multiple stock pairs",
   "id": "246d91a0b71214f9"
  },
  {
   "metadata": {
    "ExecuteTime": {
     "end_time": "2024-11-10T23:23:40.612944Z",
     "start_time": "2024-11-10T23:23:40.610632Z"
    }
   },
   "cell_type": "code",
   "source": [
    "stock_pairs = [\n",
    "    # ('META', 'GOOGL'),   # Meta vs Google\n",
    "    # (\"LULU\", \"FRCOY\"), # Burberry vs Fast Retailing\n",
    "    (\"DIS\", \"IQ\"),        # Disney vs Six Flags\n",
    "    ('BABA', 'AMZN'),    # Alibaba vs Amazon\n",
    "    ('JD', 'WMT'),       # JD.com vs Walmart\n",
    "    ('DASH', 'UPS'),    # DoorDash vs Grubhub\n",
    "    ('TSLA', 'UAL'),    # Tesla vs United Airlines\n",
    "]"
   ],
   "id": "2f9bfda306d21e9",
   "outputs": [],
   "execution_count": 48
  },
  {
   "metadata": {
    "ExecuteTime": {
     "end_time": "2024-11-10T23:23:41.659003Z",
     "start_time": "2024-11-10T23:23:41.438962Z"
    }
   },
   "cell_type": "code",
   "source": [
    "# Loop through each stock pair\n",
    "for ticker1, ticker2 in stock_pairs:\n",
    "    data1 = yf.download(ticker1, start=start_date, end=end_date, interval='1wk')\n",
    "    data1['Return'] = data1['Adj Close'].pct_change().dropna()\n",
    "    \n",
    "    data2 = yf.download(ticker2, start=start_date, end=end_date, interval='1wk')\n",
    "    data2['Return'] = data2['Adj Close'].pct_change().dropna()\n",
    "    \n",
    "    returns_stock1 = data1['Return'].dropna()\n",
    "    returns_stock2 = data2['Return'].dropna()\n",
    "        \n",
    "    kde1 = gaussian_kde(returns_stock1)\n",
    "    kde2 = gaussian_kde(returns_stock2)\n",
    "    \n",
    "    x_grid = np.linspace(min(returns_stock1.min(), returns_stock2.min()),\n",
    "                            max(returns_stock1.max(), returns_stock2.max()), 1000)\n",
    "    \n",
    "    pdf_stock1 = kde1(x_grid)\n",
    "    pdf_stock2 = kde2(x_grid)\n",
    "    \n",
    "    cdf_stock1 = np.cumsum(pdf_stock1) * (x_grid[1] - x_grid[0])\n",
    "    \n",
    "    cdf_stock2 = np.cumsum(pdf_stock2) * (x_grid[1] - x_grid[0])\n",
    "        \n",
    "    icdf_stock1 = np.cumsum(cdf_stock1) * (x_grid[1] - x_grid[0])\n",
    "    icdf_stock2 = np.cumsum(cdf_stock2) * (x_grid[1] - x_grid[0])\n",
    "    \n",
    "    output_data = {\n",
    "        \"x_grid\": x_grid.tolist(),\n",
    "        \"pdf_stock1\": pdf_stock1.tolist(),\n",
    "        \"pdf_stock2\": pdf_stock2.tolist(),\n",
    "        \"cdf_stock1\": cdf_stock1.tolist(),\n",
    "        \"cdf_stock2\": cdf_stock2.tolist(),\n",
    "        \"icdf_stock1\": icdf_stock1.tolist(),\n",
    "        \"icdf_stock2\": icdf_stock2.tolist(),\n",
    "    }\n",
    "    \n",
    "    \n",
    "    data_name = f'{ticker1}_vs_{ticker2}.json'\n",
    "    file_path = f'/Users/victoriashi/GithubProject/info_viz/src/data/{data_name}'\n",
    "    with open(file_path, 'w') as f:\n",
    "        json.dump(output_data, f)"
   ],
   "id": "906a0909698b3a98",
   "outputs": [
    {
     "name": "stderr",
     "output_type": "stream",
     "text": [
      "[*********************100%***********************]  1 of 1 completed\n",
      "[*********************100%***********************]  1 of 1 completed\n",
      "[*********************100%***********************]  1 of 1 completed\n",
      "[*********************100%***********************]  1 of 1 completed\n",
      "[*********************100%***********************]  1 of 1 completed\n",
      "[*********************100%***********************]  1 of 1 completed\n",
      "[*********************100%***********************]  1 of 1 completed\n",
      "[*********************100%***********************]  1 of 1 completed\n",
      "[*********************100%***********************]  1 of 1 completed\n",
      "[*********************100%***********************]  1 of 1 completed\n"
     ]
    }
   ],
   "execution_count": 49
  }
 ],
 "metadata": {
  "kernelspec": {
   "display_name": "Python 3",
   "language": "python",
   "name": "python3"
  },
  "language_info": {
   "codemirror_mode": {
    "name": "ipython",
    "version": 2
   },
   "file_extension": ".py",
   "mimetype": "text/x-python",
   "name": "python",
   "nbconvert_exporter": "python",
   "pygments_lexer": "ipython2",
   "version": "2.7.6"
  }
 },
 "nbformat": 4,
 "nbformat_minor": 5
}
